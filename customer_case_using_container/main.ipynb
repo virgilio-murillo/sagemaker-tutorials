{
 "cells": [
  {
   "cell_type": "code",
   "execution_count": 10,
   "id": "e573ce73-4b47-47a0-9590-636c9d48a6ed",
   "metadata": {
    "scrolled": true
   },
   "outputs": [],
   "source": [
    "!pip freeze > requirements.txt"
   ]
  },
  {
   "cell_type": "code",
   "execution_count": 1,
   "id": "48b3484e-17c5-4036-bd05-f2814189874d",
   "metadata": {},
   "outputs": [
    {
     "name": "stdout",
     "output_type": "stream",
     "text": [
      "1.5.2\n",
      "2.1.3\n",
      "3.1.0\n"
     ]
    },
    {
     "name": "stderr",
     "output_type": "stream",
     "text": [
      "/tmp/ipykernel_156167/1998059267.py:6: DeprecationWarning: The '__version__' attribute is deprecated and will be removed in Flask 3.1. Use feature detection or 'importlib.metadata.version(\"flask\")' instead.\n",
      "  print(flask.__version__)\n"
     ]
    }
   ],
   "source": [
    "import sklearn # Check Sklearn version\n",
    "import xgboost\n",
    "import flask\n",
    "print(sklearn.__version__)\n",
    "print(xgboost.__version__)\n",
    "print(flask.__version__)"
   ]
  },
  {
   "cell_type": "code",
   "execution_count": 2,
   "id": "f6060074-3179-49bc-b53d-449806621fc1",
   "metadata": {},
   "outputs": [
    {
     "name": "stderr",
     "output_type": "stream",
     "text": [
      "/home/murivirg/work/github/sagemaker-tutorials/customer_case_using_container/env/lib/python3.13/site-packages/pydantic/_internal/_fields.py:192: UserWarning: Field name \"json\" in \"MonitoringDatasetFormat\" shadows an attribute in parent \"Base\"\n",
      "  warnings.warn(\n"
     ]
    },
    {
     "data": {
      "text/html": [
       "<pre style=\"white-space:pre;overflow-x:auto;line-height:normal;font-family:Menlo,'DejaVu Sans Mono',consolas,'Courier New',monospace\"><span style=\"color: #7fbfbf; text-decoration-color: #7fbfbf\">[03/26/25 14:09:02] </span><span style=\"color: #0069ff; text-decoration-color: #0069ff; font-weight: bold\">INFO    </span> Found credentials in shared credentials file: ~<span style=\"color: #e100e1; text-decoration-color: #e100e1\">/.aws/credentials</span>   <a href=\"file:///home/murivirg/work/github/sagemaker-tutorials/customer_case_using_container/env/lib/python3.13/site-packages/botocore/credentials.py\" target=\"_blank\"><span style=\"color: #7f7f7f; text-decoration-color: #7f7f7f\">credentials.py</span></a><span style=\"color: #7f7f7f; text-decoration-color: #7f7f7f\">:</span><a href=\"file:///home/murivirg/work/github/sagemaker-tutorials/customer_case_using_container/env/lib/python3.13/site-packages/botocore/credentials.py#1352\" target=\"_blank\"><span style=\"color: #7f7f7f; text-decoration-color: #7f7f7f\">1352</span></a>\n",
       "</pre>\n"
      ],
      "text/plain": [
       "\u001b[2;36m[03/26/25 14:09:02]\u001b[0m\u001b[2;36m \u001b[0m\u001b[1;38;2;0;105;255mINFO    \u001b[0m Found credentials in shared credentials file: ~\u001b[38;2;225;0;225m/.aws/\u001b[0m\u001b[38;2;225;0;225mcredentials\u001b[0m   \u001b]8;id=247037;file:///home/murivirg/work/github/sagemaker-tutorials/customer_case_using_container/env/lib/python3.13/site-packages/botocore/credentials.py\u001b\\\u001b[2mcredentials.py\u001b[0m\u001b]8;;\u001b\\\u001b[2m:\u001b[0m\u001b]8;id=74855;file:///home/murivirg/work/github/sagemaker-tutorials/customer_case_using_container/env/lib/python3.13/site-packages/botocore/credentials.py#1352\u001b\\\u001b[2m1352\u001b[0m\u001b]8;;\u001b\\\n"
      ]
     },
     "metadata": {},
     "output_type": "display_data"
    },
    {
     "name": "stdout",
     "output_type": "stream",
     "text": [
      "sagemaker.config INFO - Not applying SDK defaults from location: /etc/xdg/xdg-ubuntu/sagemaker/config.yaml\n",
      "sagemaker.config INFO - Not applying SDK defaults from location: /home/murivirg/.config/sagemaker/config.yaml\n"
     ]
    },
    {
     "data": {
      "text/html": [
       "<pre style=\"white-space:pre;overflow-x:auto;line-height:normal;font-family:Menlo,'DejaVu Sans Mono',consolas,'Courier New',monospace\"><span style=\"color: #7fbfbf; text-decoration-color: #7fbfbf\">[03/26/25 14:09:03] </span><span style=\"color: #0069ff; text-decoration-color: #0069ff; font-weight: bold\">INFO    </span> Found credentials in shared credentials file: ~<span style=\"color: #e100e1; text-decoration-color: #e100e1\">/.aws/credentials</span>   <a href=\"file:///home/murivirg/work/github/sagemaker-tutorials/customer_case_using_container/env/lib/python3.13/site-packages/botocore/credentials.py\" target=\"_blank\"><span style=\"color: #7f7f7f; text-decoration-color: #7f7f7f\">credentials.py</span></a><span style=\"color: #7f7f7f; text-decoration-color: #7f7f7f\">:</span><a href=\"file:///home/murivirg/work/github/sagemaker-tutorials/customer_case_using_container/env/lib/python3.13/site-packages/botocore/credentials.py#1352\" target=\"_blank\"><span style=\"color: #7f7f7f; text-decoration-color: #7f7f7f\">1352</span></a>\n",
       "</pre>\n"
      ],
      "text/plain": [
       "\u001b[2;36m[03/26/25 14:09:03]\u001b[0m\u001b[2;36m \u001b[0m\u001b[1;38;2;0;105;255mINFO    \u001b[0m Found credentials in shared credentials file: ~\u001b[38;2;225;0;225m/.aws/\u001b[0m\u001b[38;2;225;0;225mcredentials\u001b[0m   \u001b]8;id=983585;file:///home/murivirg/work/github/sagemaker-tutorials/customer_case_using_container/env/lib/python3.13/site-packages/botocore/credentials.py\u001b\\\u001b[2mcredentials.py\u001b[0m\u001b]8;;\u001b\\\u001b[2m:\u001b[0m\u001b]8;id=520875;file:///home/murivirg/work/github/sagemaker-tutorials/customer_case_using_container/env/lib/python3.13/site-packages/botocore/credentials.py#1352\u001b\\\u001b[2m1352\u001b[0m\u001b]8;;\u001b\\\n"
      ]
     },
     "metadata": {},
     "output_type": "display_data"
    },
    {
     "name": "stdout",
     "output_type": "stream",
     "text": [
      "Using bucket mainbucketrockhight5461\n",
      "sagemaker version: 2.242.0\n"
     ]
    }
   ],
   "source": [
    "import numpy as np\n",
    "from sagemaker import get_execution_role\n",
    "import sagemaker\n",
    "from sklearn.model_selection import train_test_split\n",
    "from sklearn.preprocessing import LabelEncoder, StandardScaler, OneHotEncoder\n",
    "import datetime\n",
    "import time\n",
    "import tarfile\n",
    "import boto3\n",
    "import pandas as pd\n",
    "\n",
    "sm_boto3 = boto3.client(\"sagemaker\")\n",
    "sess = sagemaker.Session()\n",
    "region = sess.boto_session.region_name\n",
    "bucket = 'mainbucketrockhight5461' # Mention the created S3 bucket name here\n",
    "print(\"Using bucket \" + bucket)\n",
    "# hi\n",
    "print(f\"sagemaker version: {sagemaker.__version__}\")"
   ]
  },
  {
   "cell_type": "code",
   "execution_count": 3,
   "id": "37fc4036-6704-4a54-bf09-c444462c47db",
   "metadata": {},
   "outputs": [],
   "source": [
    "import pickle\n",
    "\n",
    "with open('model.pkl', 'rb') as f:\n",
    "    model = pickle.load(f)"
   ]
  },
  {
   "cell_type": "code",
   "execution_count": 4,
   "id": "f3d17fa7-dbbe-4c56-97f8-84b6dfe74035",
   "metadata": {},
   "outputs": [
    {
     "name": "stdout",
     "output_type": "stream",
     "text": [
      "<class 'sklearn.pipeline.Pipeline'>\n",
      "Pipeline(steps=[('processing',\n",
      "                 <transformers.RawDataProcessor object at 0x71ca622dbe00>),\n",
      "                ('slice_columns',\n",
      "                 <transformers.DataSlicer object at 0x71ca61b26f90>),\n",
      "                ('null_filling',\n",
      "                 <transformers.NullFillTransformer object at 0x71ca61b27cb0>),\n",
      "                ('model',\n",
      "                 FitModel(folds=5,\n",
      "                          hyper_parameters={'colsample_bytree': [0.6, 0.8],\n",
      "                                            'gamma': [2], 'max_depth': [3],\n",
      "                                            'min_child_weight': [3],\n",
      "                                            'random_state': [1005],\n",
      "                                            'subsample': [0.6, 0.8]}))])\n"
     ]
    }
   ],
   "source": [
    "print(type(model))\n",
    "print(model)"
   ]
  },
  {
   "cell_type": "code",
   "execution_count": 5,
   "id": "5e68d79d-1ff2-4a5f-89b4-cc152d6c79fa",
   "metadata": {},
   "outputs": [
    {
     "name": "stdout",
     "output_type": "stream",
     "text": [
      "{'memory': None, 'steps': [('processing', <transformers.RawDataProcessor object at 0x71ca622dbe00>), ('slice_columns', <transformers.DataSlicer object at 0x71ca61b26f90>), ('null_filling', <transformers.NullFillTransformer object at 0x71ca61b27cb0>), ('model', FitModel(folds=5,\n",
      "         hyper_parameters={'colsample_bytree': [0.6, 0.8], 'gamma': [2],\n",
      "                           'max_depth': [3], 'min_child_weight': [3],\n",
      "                           'random_state': [1005], 'subsample': [0.6, 0.8]}))], 'verbose': False, 'processing': <transformers.RawDataProcessor object at 0x71ca622dbe00>, 'slice_columns': <transformers.DataSlicer object at 0x71ca61b26f90>, 'null_filling': <transformers.NullFillTransformer object at 0x71ca61b27cb0>, 'model': FitModel(folds=5,\n",
      "         hyper_parameters={'colsample_bytree': [0.6, 0.8], 'gamma': [2],\n",
      "                           'max_depth': [3], 'min_child_weight': [3],\n",
      "                           'random_state': [1005], 'subsample': [0.6, 0.8]}), 'model__folds': 5, 'model__hyper_parameters': {'max_depth': [3], 'min_child_weight': [3], 'subsample': [0.6, 0.8], 'colsample_bytree': [0.6, 0.8], 'gamma': [2], 'random_state': [1005]}}\n"
     ]
    }
   ],
   "source": [
    "print(model.get_params())"
   ]
  },
  {
   "cell_type": "code",
   "execution_count": 6,
   "id": "b7571ae3-bc44-4482-923f-5e00c2bea83d",
   "metadata": {},
   "outputs": [],
   "source": [
    "import pandas as pd\n",
    "import pickle\n",
    "\n",
    "# Load the model\n",
    "with open('model.pkl', 'rb') as f:\n",
    "    pipeline = pickle.load(f)\n",
    "\n",
    "# Assuming 'decline_v2a_debit' is one of the required features\n",
    "input_data = pd.DataFrame({\n",
    "    'timestamp': ['2023-05-01'],\n",
    "    'in_data': ['{\"yams_score\":0.7,\"north_star_metric\":\"5.5\"}'],\n",
    "    'decline_v2a_debit': [0.5],\n",
    "    'days_since_sms_otp_success': [20],\n",
    "    'days_since_receiver_first_seen': [100],\n",
    "    'days_since_device_first_seen': [20],\n",
    "    'dda_age_in_days': [100]# Add this and any other missing features\n",
    "    # ... add all other required features ...\n",
    "})\n",
    "\n",
    "# Make a prediction\n",
    "prediction = pipeline.predict(input_data)"
   ]
  },
  {
   "cell_type": "code",
   "execution_count": 7,
   "id": "aae84a5f-e98f-47ad-82ee-bdb8a69ac05e",
   "metadata": {},
   "outputs": [
    {
     "name": "stdout",
     "output_type": "stream",
     "text": [
      "{'uncalibrated': array([[0.14639568, 0.8536043 ]], dtype=float32), 'calibrated': array([[0.60676062, 0.39323938]])}\n"
     ]
    }
   ],
   "source": [
    "print(prediction)"
   ]
  },
  {
   "cell_type": "code",
   "execution_count": 9,
   "id": "b658cdfb-f043-4a12-be95-c79dd367a25c",
   "metadata": {
    "scrolled": true
   },
   "outputs": [
    {
     "name": "stdout",
     "output_type": "stream",
     "text": [
      "Ping endpoint test passed!\n",
      "Invoked with 1 records\n",
      "Invocations endpoint test passed!\n",
      "Predictions: [[0.14639568 0.8536043 ]]\n",
      "[[0.60676062 0.39323938]]\n",
      "All tests completed successfully!\n"
     ]
    }
   ],
   "source": [
    "import os\n",
    "import sys\n",
    "import pandas as pd\n",
    "from flask import Flask\n",
    "\n",
    "# Add the directory containing predictor.py and transformers.py to the Python path\n",
    "sys.path.append(os.path.abspath('docker-folder/src'))\n",
    "sys.path.append(os.path.abspath('.'))  # For transformers.py in the root directory\n",
    "\n",
    "# Import the ScoringService and app from predictor.py without modifying it\n",
    "from predictor_script import ScoringService, app\n",
    "\n",
    "# Temporarily set the model path to the current directory where model.pkl is located\n",
    "original_model_path = 'docker-folder/model'\n",
    "test_model_path = 'docker-folder/model'  # model.pkl is in the root directory\n",
    "os.environ['MODEL_PATH'] = test_model_path  # Optional, depending on predictor.py implementation\n",
    "\n",
    "# Ensure the model loads successfully\n",
    "model = ScoringService.get_model()\n",
    "assert model is not None, \"Model failed to load from model.pkl\"\n",
    "\n",
    "# Test the /ping endpoint\n",
    "with app.test_client() as client:\n",
    "    response = client.get('/ping')\n",
    "    assert response.status_code == 200, f\"Ping endpoint failed with status {response.status_code}\"\n",
    "    print(\"Ping endpoint test passed!\")\n",
    "\n",
    "# Prepare sample CSV input data with headers for /invocations\n",
    "sample_data = pd.DataFrame({\n",
    "    'timestamp': ['2023-05-01'],\n",
    "    'in_data': ['{\"yams_score\":0.7,\"north_star_metric\":\"5.5\"}'],\n",
    "    'decline_v2a_debit': [0.5],\n",
    "    'days_since_sms_otp_success': [20],\n",
    "    'days_since_receiver_first_seen': [100],\n",
    "    'days_since_device_first_seen': [20],\n",
    "    'dda_age_in_days': [100]\n",
    "})\n",
    "csv_data = sample_data.to_csv(index=False)\n",
    "\n",
    "# Test the /invocations endpoint\n",
    "with app.test_client() as client:\n",
    "    response = client.post('/invocations', data=csv_data, content_type='text/csv')\n",
    "    assert response.status_code == 200, f\"Invocations endpoint failed with status {response.status_code}\"\n",
    "    predictions = response.get_data(as_text=True).strip()\n",
    "    assert predictions, \"No predictions returned from /invocations\"\n",
    "    print(\"Invocations endpoint test passed!\")\n",
    "    print(f\"Predictions: {predictions}\")\n",
    "\n",
    "print(\"All tests completed successfully!\")"
   ]
  },
  {
   "cell_type": "code",
   "execution_count": 10,
   "id": "9b2ed993-3792-4ab6-a38d-d425e18dfc91",
   "metadata": {},
   "outputs": [
    {
     "name": "stdout",
     "output_type": "stream",
     "text": [
      "model data: s3://mainbucketrockhight5461/models/model.tar.gz\n"
     ]
    }
   ],
   "source": [
    "s3 = boto3.client('s3')\n",
    "\n",
    "# Upload the tar.gz file to S3\n",
    "s3.upload_file(\"model.tar.gz\", bucket, \"models/model.tar.gz\")\n",
    "model_data = f\"s3://{bucket}/models/model.tar.gz\"\n",
    "\n",
    "print(f\"model data: {model_data}\")"
   ]
  },
  {
   "cell_type": "code",
   "execution_count": 54,
   "id": "aa0150fc-d463-466e-8754-ed08e5647e4a",
   "metadata": {},
   "outputs": [
    {
     "name": "stdout",
     "output_type": "stream",
     "text": [
      "Testing /ping endpoint...\n",
      "Ping successful! Status code: 200\n",
      "\n",
      "Testing /invocations endpoint...\n",
      "Invocations successful!\n",
      "Response status code: 200\n",
      "Predictions: [[0.14639568 0.8536043 ]]\n",
      "[[0.60676062 0.39323938]]\n",
      "\n"
     ]
    }
   ],
   "source": [
    "import requests\n",
    "import pandas as pd\n",
    "from io import StringIO\n",
    "\n",
    "# Test the ping endpoint\n",
    "print(\"Testing /ping endpoint...\")\n",
    "ping_url = \"http://localhost:8081/ping\"\n",
    "try:\n",
    "    response = requests.get(ping_url, timeout=5)\n",
    "    response.raise_for_status()\n",
    "    print(f\"Ping successful! Status code: {response.status_code}\")\n",
    "except requests.RequestException as e:\n",
    "    print(f\"Ping failed: {e}\")\n",
    "\n",
    "# Test the invocations endpoint\n",
    "print(\"\\nTesting /invocations endpoint...\")\n",
    "invocations_url = \"http://localhost:8081/invocations\"\n",
    "\n",
    "# Prepare sample CSV input data (similar to your successful test)\n",
    "sample_data = pd.DataFrame({\n",
    "    'timestamp': ['2023-05-01'],\n",
    "    'in_data': ['{\"yams_score\":0.7,\"north_star_metric\":\"5.5\"}'],\n",
    "    'decline_v2a_debit': [0.5],\n",
    "    'days_since_sms_otp_success': [20],\n",
    "    'days_since_receiver_first_seen': [100],\n",
    "    'days_since_device_first_seen': [20],\n",
    "    'dda_age_in_days': [100]\n",
    "})\n",
    "csv_data = sample_data.to_csv(index=False)\n",
    "\n",
    "headers = {\"Content-Type\": \"text/csv\"}\n",
    "try:\n",
    "    response = requests.post(invocations_url, headers=headers, data=csv_data, timeout=5)\n",
    "    response.raise_for_status()\n",
    "    print(\"Invocations successful!\")\n",
    "    print(\"Response status code:\", response.status_code)\n",
    "    print(\"Predictions:\", response.text)\n",
    "except requests.RequestException as e:\n",
    "    print(f\"Invocations failed: {e}\")\n",
    "    if 'response' in locals():\n",
    "        print(\"Response content:\", response.text)"
   ]
  },
  {
   "cell_type": "code",
   "execution_count": 55,
   "id": "4cb7417f-8515-4899-b453-7a15bfa751cf",
   "metadata": {},
   "outputs": [],
   "source": [
    "import sagemaker\n",
    "from sagemaker import get_execution_role\n",
    "from sagemaker.model import Model\n",
    "from sagemaker.deserializers import JSONDeserializer\n",
    "import pandas as pd\n",
    "import json\n",
    "\n",
    "# Get the SageMaker execution role (assumes this is run in a SageMaker notebook)\n",
    "role = \"arn:aws:iam::794038231401:role/service-role/SageMaker-ExecutionRole-20250103T203496\"\n",
    "\n",
    "# Create a SageMaker session\n",
    "sagemaker_session = sagemaker.Session()\n",
    "\n",
    "# Specify your ECR image URI (replace with your actual URI)\n",
    "image_uri = '794038231401.dkr.ecr.us-east-1.amazonaws.com/my-sagemaker-model:latest'"
   ]
  },
  {
   "cell_type": "code",
   "execution_count": 56,
   "id": "f3db772a-0c5e-4afa-8681-d0b18db02717",
   "metadata": {},
   "outputs": [],
   "source": [
    "import tarfile\n",
    "with tarfile.open('model.tar.gz', 'w:gz') as tar:\n",
    "    tar.add('docker-folder/model/decision-tree-model.pkl', arcname='decision-tree-model.pkl')"
   ]
  },
  {
   "cell_type": "code",
   "execution_count": 57,
   "id": "9be58750-507b-45d3-aff5-83e682d11178",
   "metadata": {},
   "outputs": [
    {
     "name": "stdout",
     "output_type": "stream",
     "text": [
      "sagemaker-us-east-1-794038231401\n"
     ]
    }
   ],
   "source": [
    "# Upload the dummy file to S3\n",
    "def_bucket = sagemaker_session.default_bucket()\n",
    "def_bucket = sagemaker_session.default_bucket()\n",
    "print(def_bucket)\n",
    "model_data = sagemaker_session.upload_data(\n",
    "    path='model.tar.gz', \n",
    "    bucket=def_bucket, \n",
    "    key_prefix='model')"
   ]
  },
  {
   "cell_type": "code",
   "execution_count": 58,
   "id": "75e2e805-ecfe-41cd-9f08-06eae9d19cca",
   "metadata": {},
   "outputs": [
    {
     "name": "stdout",
     "output_type": "stream",
     "text": [
      "s3://sagemaker-us-east-1-794038231401/model/model.tar.gz\n"
     ]
    }
   ],
   "source": [
    "print(model_data)"
   ]
  },
  {
   "cell_type": "code",
   "execution_count": 59,
   "id": "52917235-4e23-4710-84c6-981cafc44205",
   "metadata": {},
   "outputs": [],
   "source": [
    "# Create the SageMaker model\n",
    "model = Model(\n",
    "    image_uri=image_uri,\n",
    "    model_data=model_data,\n",
    "    role=role,\n",
    "    sagemaker_session=sagemaker_session\n",
    ")\n",
    "\n",
    "# Optional: Delete the endpoint after testing to avoid costs\n",
    "# predictor.delete_endpoint()"
   ]
  },
  {
   "cell_type": "code",
   "execution_count": 60,
   "id": "18057a96-c741-41ab-a31c-6dbaac98cec0",
   "metadata": {
    "scrolled": true
   },
   "outputs": [
    {
     "data": {
      "text/html": [
       "<pre style=\"white-space:pre;overflow-x:auto;line-height:normal;font-family:Menlo,'DejaVu Sans Mono',consolas,'Courier New',monospace\"><span style=\"color: #7fbfbf; text-decoration-color: #7fbfbf\">[03/26/25 21:02:22] </span><span style=\"color: #0069ff; text-decoration-color: #0069ff; font-weight: bold\">INFO    </span> Creating model with name: my-sagemaker-model-<span style=\"color: #008080; text-decoration-color: #008080; font-weight: bold\">2025</span>-03-27-03-02-22-294   <a href=\"file:///home/murivirg/work/github/sagemaker-tutorials/customer_case_using_container/env/lib/python3.13/site-packages/sagemaker/session.py\" target=\"_blank\"><span style=\"color: #7f7f7f; text-decoration-color: #7f7f7f\">session.py</span></a><span style=\"color: #7f7f7f; text-decoration-color: #7f7f7f\">:</span><a href=\"file:///home/murivirg/work/github/sagemaker-tutorials/customer_case_using_container/env/lib/python3.13/site-packages/sagemaker/session.py#4094\" target=\"_blank\"><span style=\"color: #7f7f7f; text-decoration-color: #7f7f7f\">4094</span></a>\n",
       "</pre>\n"
      ],
      "text/plain": [
       "\u001b[2;36m[03/26/25 21:02:22]\u001b[0m\u001b[2;36m \u001b[0m\u001b[1;38;2;0;105;255mINFO    \u001b[0m Creating model with name: my-sagemaker-model-\u001b[1;36m2025\u001b[0m-03-27-03-02-22-294   \u001b]8;id=226500;file:///home/murivirg/work/github/sagemaker-tutorials/customer_case_using_container/env/lib/python3.13/site-packages/sagemaker/session.py\u001b\\\u001b[2msession.py\u001b[0m\u001b]8;;\u001b\\\u001b[2m:\u001b[0m\u001b]8;id=38915;file:///home/murivirg/work/github/sagemaker-tutorials/customer_case_using_container/env/lib/python3.13/site-packages/sagemaker/session.py#4094\u001b\\\u001b[2m4094\u001b[0m\u001b]8;;\u001b\\\n"
      ]
     },
     "metadata": {},
     "output_type": "display_data"
    },
    {
     "data": {
      "text/html": [
       "<pre style=\"white-space:pre;overflow-x:auto;line-height:normal;font-family:Menlo,'DejaVu Sans Mono',consolas,'Courier New',monospace\"><span style=\"color: #7fbfbf; text-decoration-color: #7fbfbf\">[03/26/25 21:02:23] </span><span style=\"color: #0069ff; text-decoration-color: #0069ff; font-weight: bold\">INFO    </span> Creating endpoint-config with name my-endpoint                         <a href=\"file:///home/murivirg/work/github/sagemaker-tutorials/customer_case_using_container/env/lib/python3.13/site-packages/sagemaker/session.py\" target=\"_blank\"><span style=\"color: #7f7f7f; text-decoration-color: #7f7f7f\">session.py</span></a><span style=\"color: #7f7f7f; text-decoration-color: #7f7f7f\">:</span><a href=\"file:///home/murivirg/work/github/sagemaker-tutorials/customer_case_using_container/env/lib/python3.13/site-packages/sagemaker/session.py#5937\" target=\"_blank\"><span style=\"color: #7f7f7f; text-decoration-color: #7f7f7f\">5937</span></a>\n",
       "</pre>\n"
      ],
      "text/plain": [
       "\u001b[2;36m[03/26/25 21:02:23]\u001b[0m\u001b[2;36m \u001b[0m\u001b[1;38;2;0;105;255mINFO    \u001b[0m Creating endpoint-config with name my-endpoint                         \u001b]8;id=711743;file:///home/murivirg/work/github/sagemaker-tutorials/customer_case_using_container/env/lib/python3.13/site-packages/sagemaker/session.py\u001b\\\u001b[2msession.py\u001b[0m\u001b]8;;\u001b\\\u001b[2m:\u001b[0m\u001b]8;id=244185;file:///home/murivirg/work/github/sagemaker-tutorials/customer_case_using_container/env/lib/python3.13/site-packages/sagemaker/session.py#5937\u001b\\\u001b[2m5937\u001b[0m\u001b]8;;\u001b\\\n"
      ]
     },
     "metadata": {},
     "output_type": "display_data"
    },
    {
     "data": {
      "text/html": [
       "<pre style=\"white-space:pre;overflow-x:auto;line-height:normal;font-family:Menlo,'DejaVu Sans Mono',consolas,'Courier New',monospace\"><span style=\"color: #7fbfbf; text-decoration-color: #7fbfbf\">                    </span><span style=\"color: #0069ff; text-decoration-color: #0069ff; font-weight: bold\">INFO    </span> Creating endpoint with name my-endpoint                                <a href=\"file:///home/murivirg/work/github/sagemaker-tutorials/customer_case_using_container/env/lib/python3.13/site-packages/sagemaker/session.py\" target=\"_blank\"><span style=\"color: #7f7f7f; text-decoration-color: #7f7f7f\">session.py</span></a><span style=\"color: #7f7f7f; text-decoration-color: #7f7f7f\">:</span><a href=\"file:///home/murivirg/work/github/sagemaker-tutorials/customer_case_using_container/env/lib/python3.13/site-packages/sagemaker/session.py#4759\" target=\"_blank\"><span style=\"color: #7f7f7f; text-decoration-color: #7f7f7f\">4759</span></a>\n",
       "</pre>\n"
      ],
      "text/plain": [
       "\u001b[2;36m                   \u001b[0m\u001b[2;36m \u001b[0m\u001b[1;38;2;0;105;255mINFO    \u001b[0m Creating endpoint with name my-endpoint                                \u001b]8;id=508541;file:///home/murivirg/work/github/sagemaker-tutorials/customer_case_using_container/env/lib/python3.13/site-packages/sagemaker/session.py\u001b\\\u001b[2msession.py\u001b[0m\u001b]8;;\u001b\\\u001b[2m:\u001b[0m\u001b]8;id=552192;file:///home/murivirg/work/github/sagemaker-tutorials/customer_case_using_container/env/lib/python3.13/site-packages/sagemaker/session.py#4759\u001b\\\u001b[2m4759\u001b[0m\u001b]8;;\u001b\\\n"
      ]
     },
     "metadata": {},
     "output_type": "display_data"
    },
    {
     "name": "stdout",
     "output_type": "stream",
     "text": [
      "--------!"
     ]
    }
   ],
   "source": [
    "# Deploy the model to an endpoint\n",
    "predictor = model.deploy(\n",
    "    initial_instance_count=1,\n",
    "    instance_type='ml.m5.large',  # Adjust instance type as needed\n",
    "    endpoint_name='my-endpoint'   # Replace with a unique endpoint name\n",
    ")"
   ]
  },
  {
   "cell_type": "code",
   "execution_count": 61,
   "id": "77bb3518-3e71-43a2-9a80-caa373927b37",
   "metadata": {},
   "outputs": [
    {
     "name": "stdout",
     "output_type": "stream",
     "text": [
      "<class 'NoneType'>\n"
     ]
    }
   ],
   "source": [
    "print(type(predictor))"
   ]
  },
  {
   "cell_type": "code",
   "execution_count": 65,
   "id": "b1c55e13-ae17-486d-b53a-720edb416ab1",
   "metadata": {},
   "outputs": [
    {
     "name": "stdout",
     "output_type": "stream",
     "text": [
      "Predictions: [['[[0.14639568 0.8536043 ]]'], ['[[0.60676062 0.39323938]]']]\n"
     ]
    }
   ],
   "source": [
    "import pandas as pd\n",
    "import sagemaker\n",
    "from sagemaker.predictor import Predictor\n",
    "from sagemaker.deserializers import JSONDeserializer\n",
    "\n",
    "# Create predictor object for existing endpoint\n",
    "# Create predictor with CSV deserializer\n",
    "predictor = Predictor(\n",
    "    endpoint_name='my-endpoint',\n",
    "    sagemaker_session=sagemaker.Session(),\n",
    "    serializer=sagemaker.serializers.CSVSerializer(),\n",
    "    deserializer=sagemaker.deserializers.CSVDeserializer()  # ← FIX HERE\n",
    ")\n",
    "\n",
    "# Prepare test data in the same format as your local test\n",
    "sample_data = pd.DataFrame({\n",
    "    'timestamp': ['2023-05-01'],\n",
    "    'in_data': ['{\"yams_score\":0.7,\"north_star_metric\":\"5.5\"}'],\n",
    "    'decline_v2a_debit': [0.5],\n",
    "    'days_since_sms_otp_success': [20],\n",
    "    'days_since_receiver_first_seen': [100],\n",
    "    'days_since_device_first_seen': [20],\n",
    "    'dda_age_in_days': [100]\n",
    "})\n",
    "\n",
    "# Convert to CSV WITH HEADERS (index=False, header=True)\n",
    "csv_data = sample_data.to_csv(index=False, header=True)  # Changed header=False to header=True\n",
    "\n",
    "# Make prediction\n",
    "try:\n",
    "    response = predictor.predict(\n",
    "        csv_data,\n",
    "        initial_args={'ContentType': 'text/csv'}\n",
    "    )\n",
    "    print(\"Predictions:\", response)\n",
    "except Exception as e:\n",
    "    print(\"Prediction failed:\", e)\n",
    "    if hasattr(e, 'response'):\n",
    "        print(\"Error response:\", e.response)"
   ]
  },
  {
   "cell_type": "code",
   "execution_count": null,
   "id": "f47cf385-0c9b-4a9a-80f0-fc12adf949a0",
   "metadata": {},
   "outputs": [],
   "source": []
  }
 ],
 "metadata": {
  "kernelspec": {
   "display_name": "Python 3 (ipykernel)",
   "language": "python",
   "name": "python3"
  },
  "language_info": {
   "codemirror_mode": {
    "name": "ipython",
    "version": 3
   },
   "file_extension": ".py",
   "mimetype": "text/x-python",
   "name": "python",
   "nbconvert_exporter": "python",
   "pygments_lexer": "ipython3",
   "version": "3.13.1"
  }
 },
 "nbformat": 4,
 "nbformat_minor": 5
}
